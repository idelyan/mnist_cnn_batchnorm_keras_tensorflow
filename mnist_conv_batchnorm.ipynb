{
  "nbformat": 4,
  "nbformat_minor": 0,
  "metadata": {
    "colab": {
      "provenance": []
    },
    "kernelspec": {
      "name": "python3",
      "display_name": "Python 3"
    },
    "language_info": {
      "name": "python"
    }
  },
  "cells": [
    {
      "cell_type": "code",
      "execution_count": 113,
      "metadata": {
        "id": "4-tNrvzD0OtK"
      },
      "outputs": [],
      "source": [
        "import tensorflow as tf\n",
        "from tensorflow import keras\n",
        "from keras.layers import Dense, Flatten, Input, Conv2D, BatchNormalization, MaxPooling2D\n",
        "from keras.optimizers import Adam\n",
        "from keras.datasets import mnist\n",
        "from keras.utils import to_categorical\n",
        "from keras.models import Model, load_model\n",
        "from keras.callbacks import ModelCheckpoint, EarlyStopping, ReduceLROnPlateau\n",
        "import numpy as np"
      ]
    },
    {
      "cell_type": "code",
      "source": [
        "(x_train, y_train), (x_test, y_test) = mnist.load_data()"
      ],
      "metadata": {
        "id": "d4qPIVtK0osB"
      },
      "execution_count": 114,
      "outputs": []
    },
    {
      "cell_type": "code",
      "source": [
        "n_classes = 10\n",
        "batch_size = 64\n",
        "input_shape = x_train.shape[1], x_train.shape[2], 1\n",
        "\n",
        "x_train = x_train.astype('float32') / 255\n",
        "x_test = x_test.astype('float32') / 255\n",
        "\n",
        "x_train = np.expand_dims(x_train, -1)\n",
        "x_test = np.expand_dims(x_test, -1)\n",
        "\n",
        "y_train = to_categorical(y_train, n_classes)\n",
        "y_test = to_categorical(y_test, n_classes)\n",
        "\n",
        "print('Number of classes:', n_classes)\n",
        "print('Number of train samples:', x_train.shape[0])\n",
        "print('Number of test samples:', x_test.shape[0])"
      ],
      "metadata": {
        "colab": {
          "base_uri": "https://localhost:8080/"
        },
        "id": "QO-pIWB-1aCS",
        "outputId": "5fe3283e-be0f-4776-8ccd-16c17fbddae1"
      },
      "execution_count": 115,
      "outputs": [
        {
          "output_type": "stream",
          "name": "stdout",
          "text": [
            "Number of classes: 10\n",
            "Number of train samples: 60000\n",
            "Number of test samples: 10000\n"
          ]
        }
      ]
    },
    {
      "cell_type": "code",
      "source": [
        "input = Input(shape=input_shape)\n",
        "\n",
        "x = Conv2D(8, 3, activation='relu')(input)\n",
        "x = MaxPooling2D()(x)\n",
        "x = BatchNormalization()(x)\n",
        "\n",
        "x = Conv2D(16, 3, activation='relu')(x)\n",
        "x = MaxPooling2D()(x)\n",
        "x = BatchNormalization()(x)\n",
        "\n",
        "x = Flatten()(x)\n",
        "\n",
        "x = Dense(n_classes, activation='softmax')(x)\n",
        "\n",
        "model = Model(input, x)\n",
        "model.summary()"
      ],
      "metadata": {
        "colab": {
          "base_uri": "https://localhost:8080/"
        },
        "id": "DNJFT_SF2ttq",
        "outputId": "7ac2efc1-d4d5-472b-e079-8484fe6d3cd4"
      },
      "execution_count": 116,
      "outputs": [
        {
          "output_type": "stream",
          "name": "stdout",
          "text": [
            "Model: \"model_14\"\n",
            "_________________________________________________________________\n",
            " Layer (type)                Output Shape              Param #   \n",
            "=================================================================\n",
            " input_18 (InputLayer)       [(None, 28, 28, 1)]       0         \n",
            "                                                                 \n",
            " conv2d_14 (Conv2D)          (None, 26, 26, 8)         80        \n",
            "                                                                 \n",
            " max_pooling2d_12 (MaxPoolin  (None, 13, 13, 8)        0         \n",
            " g2D)                                                            \n",
            "                                                                 \n",
            " batch_normalization_2 (Batc  (None, 13, 13, 8)        32        \n",
            " hNormalization)                                                 \n",
            "                                                                 \n",
            " conv2d_15 (Conv2D)          (None, 11, 11, 16)        1168      \n",
            "                                                                 \n",
            " max_pooling2d_13 (MaxPoolin  (None, 5, 5, 16)         0         \n",
            " g2D)                                                            \n",
            "                                                                 \n",
            " batch_normalization_3 (Batc  (None, 5, 5, 16)         64        \n",
            " hNormalization)                                                 \n",
            "                                                                 \n",
            " flatten_13 (Flatten)        (None, 400)               0         \n",
            "                                                                 \n",
            " dense_31 (Dense)            (None, 10)                4010      \n",
            "                                                                 \n",
            "=================================================================\n",
            "Total params: 5,354\n",
            "Trainable params: 5,306\n",
            "Non-trainable params: 48\n",
            "_________________________________________________________________\n"
          ]
        }
      ]
    },
    {
      "cell_type": "code",
      "source": [
        "model.compile(optimizer='adam', loss='categorical_crossentropy', metrics=['accuracy'])"
      ],
      "metadata": {
        "id": "TQyNXAnk2wA8"
      },
      "execution_count": 117,
      "outputs": []
    },
    {
      "cell_type": "code",
      "source": [
        "callbacks = [\n",
        "    EarlyStopping(patience=3, monitor='val_loss', mode=\"auto\"),\n",
        "    ReduceLROnPlateau(factor=0.1, patience=2, min_lr=0.0001, monitor='val_loss', mode='auto', verbose=1),\n",
        "    ModelCheckpoint('best_model.h5', save_best_only=True, save_weights_only=True, monitor='val_loss', mode='auto', verbose=1)\n",
        "]"
      ],
      "metadata": {
        "id": "lAQU0oVz7Gs4"
      },
      "execution_count": 118,
      "outputs": []
    },
    {
      "cell_type": "code",
      "source": [
        "model.fit(x_train, y_train, batch_size=batch_size, epochs=5, validation_split=0.2, callbacks=callbacks)"
      ],
      "metadata": {
        "colab": {
          "base_uri": "https://localhost:8080/"
        },
        "id": "FtBgHvs94d2w",
        "outputId": "3466c299-c48d-4261-9d3a-3a2e73ee550a"
      },
      "execution_count": 119,
      "outputs": [
        {
          "output_type": "stream",
          "name": "stdout",
          "text": [
            "Epoch 1/5\n",
            "748/750 [============================>.] - ETA: 0s - loss: 0.2592 - accuracy: 0.9234\n",
            "Epoch 1: val_loss improved from inf to 0.10101, saving model to best_model.h5\n",
            "750/750 [==============================] - 23s 29ms/step - loss: 0.2587 - accuracy: 0.9234 - val_loss: 0.1010 - val_accuracy: 0.9718 - lr: 0.0010\n",
            "Epoch 2/5\n",
            "748/750 [============================>.] - ETA: 0s - loss: 0.0770 - accuracy: 0.9761\n",
            "Epoch 2: val_loss improved from 0.10101 to 0.07214, saving model to best_model.h5\n",
            "750/750 [==============================] - 20s 27ms/step - loss: 0.0770 - accuracy: 0.9761 - val_loss: 0.0721 - val_accuracy: 0.9790 - lr: 0.0010\n",
            "Epoch 3/5\n",
            "750/750 [==============================] - ETA: 0s - loss: 0.0562 - accuracy: 0.9824\n",
            "Epoch 3: val_loss improved from 0.07214 to 0.05819, saving model to best_model.h5\n",
            "750/750 [==============================] - 20s 27ms/step - loss: 0.0562 - accuracy: 0.9824 - val_loss: 0.0582 - val_accuracy: 0.9828 - lr: 0.0010\n",
            "Epoch 4/5\n",
            "750/750 [==============================] - ETA: 0s - loss: 0.0462 - accuracy: 0.9858\n",
            "Epoch 4: val_loss improved from 0.05819 to 0.05472, saving model to best_model.h5\n",
            "750/750 [==============================] - 21s 27ms/step - loss: 0.0462 - accuracy: 0.9858 - val_loss: 0.0547 - val_accuracy: 0.9843 - lr: 0.0010\n",
            "Epoch 5/5\n",
            "749/750 [============================>.] - ETA: 0s - loss: 0.0391 - accuracy: 0.9883\n",
            "Epoch 5: val_loss improved from 0.05472 to 0.05468, saving model to best_model.h5\n",
            "750/750 [==============================] - 20s 27ms/step - loss: 0.0392 - accuracy: 0.9883 - val_loss: 0.0547 - val_accuracy: 0.9828 - lr: 0.0010\n"
          ]
        },
        {
          "output_type": "execute_result",
          "data": {
            "text/plain": [
              "<keras.callbacks.History at 0x7bd6dfc4a830>"
            ]
          },
          "metadata": {},
          "execution_count": 119
        }
      ]
    },
    {
      "cell_type": "code",
      "source": [
        "model.load_weights('best_model.h5')"
      ],
      "metadata": {
        "id": "isQQIiH_8wgX"
      },
      "execution_count": 120,
      "outputs": []
    },
    {
      "cell_type": "code",
      "source": [
        "score = model.evaluate(x_test, y_test, verbose=0)\n",
        "print('Test loss:', score[0])\n",
        "print('Test accuracy:', score[1])"
      ],
      "metadata": {
        "colab": {
          "base_uri": "https://localhost:8080/"
        },
        "id": "zpm20gz18-pD",
        "outputId": "6f70ef71-1444-4eb0-eacb-c8ade5571f68"
      },
      "execution_count": 121,
      "outputs": [
        {
          "output_type": "stream",
          "name": "stdout",
          "text": [
            "Test loss: 0.051496416330337524\n",
            "Test accuracy: 0.9837999939918518\n"
          ]
        }
      ]
    }
  ]
}